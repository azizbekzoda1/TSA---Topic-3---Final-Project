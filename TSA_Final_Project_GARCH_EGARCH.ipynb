{
 "cells": [
  {
   "cell_type": "markdown",
   "id": "a51a9bf0",
   "metadata": {},
   "source": [
    "# Estimating Value-at-Risk Using GARCH Family Models\n",
    "**Azizbek Ganiev (475150)** & **Shokhrukhbek Valijonov (475154)**"
   ]
  },
  {
   "cell_type": "markdown",
   "id": "7fdb8633",
   "metadata": {},
   "source": [
    "## Introduction\n",
    "This project investigates the estimation of Value-at-Risk (VaR) using GARCH and EGARCH models on a portfolio impacted by the 2022 inflation crisis. We selected 2022 due to significant volatility shocks across asset classes. Our goal is to evaluate model performance in capturing risk under inflation-driven market conditions."
   ]
  },
  {
   "cell_type": "markdown",
   "id": "78a18b22",
   "metadata": {},
   "source": [
    "## Portfolio Composition\n",
    "We built an equal-weighted portfolio:\n",
    "- S&P 500\n",
    "- Apple Inc.\n",
    "- USD/PLN exchange rate\n",
    "- Gold\n",
    "- Ethereum\n",
    "Each asset was chosen based on its distinct behavior during inflation shocks."
   ]
  },
  {
   "cell_type": "code",
   "execution_count": null,
   "id": "158394e5",
   "metadata": {},
   "outputs": [],
   "source": [
    "import pandas as pd\n",
    "import numpy as np\n",
    "import matplotlib.pyplot as plt\n",
    "import seaborn as sns\n",
    "from arch import arch_model\n",
    "%matplotlib inline"
   ]
  },
  {
   "cell_type": "code",
   "execution_count": null,
   "id": "82f7983d",
   "metadata": {},
   "outputs": [],
   "source": [
    "# Simulated data (replace with real data in production)\n",
    "dates = pd.date_range('2022-01-01', periods=252)\n",
    "returns = pd.Series(np.random.normal(0, 0.01, 252), index=dates)\n",
    "returns.plot(title='Simulated Daily Log Returns of Portfolio')"
   ]
  },
  {
   "cell_type": "markdown",
   "id": "65ead37f",
   "metadata": {},
   "source": [
    "## GARCH(1,1) Model Estimation"
   ]
  },
  {
   "cell_type": "code",
   "execution_count": null,
   "id": "cdb62fa3",
   "metadata": {},
   "outputs": [],
   "source": [
    "garch = arch_model(returns, vol='Garch', p=1, q=1)\n",
    "garch_fitted = garch.fit(disp='off')\n",
    "print(garch_fitted.summary())\n",
    "garch_fitted.plot(annualize='D');"
   ]
  },
  {
   "cell_type": "markdown",
   "id": "794fb1d7",
   "metadata": {},
   "source": [
    "## EGARCH(1,1) Model Estimation"
   ]
  },
  {
   "cell_type": "code",
   "execution_count": null,
   "id": "dfc441ab",
   "metadata": {},
   "outputs": [],
   "source": [
    "egarch = arch_model(returns, vol='EGarch', p=1, q=1)\n",
    "egarch_fitted = egarch.fit(disp='off')\n",
    "print(egarch_fitted.summary())\n",
    "egarch_fitted.plot(annualize='D');"
   ]
  },
  {
   "cell_type": "markdown",
   "id": "e6486d45",
   "metadata": {},
   "source": [
    "## Value-at-Risk (VaR) Calculation"
   ]
  },
  {
   "cell_type": "code",
   "execution_count": null,
   "id": "e7d774a4",
   "metadata": {},
   "outputs": [],
   "source": [
    "# Example: 1-day 95% VaR\n",
    "data = pd.DataFrame({'Returns': returns})\n",
    "data['VaR_95'] = garch_fitted.conditional_volatility * 1.65\n",
    "plt.figure(figsize=(10,5))\n",
    "plt.plot(data['Returns'], label='Returns')\n",
    "plt.plot(-data['VaR_95'], label='VaR 95%', linestyle='--')\n",
    "plt.legend()\n",
    "plt.title('GARCH VaR Forecast vs Realized Returns')\n",
    "plt.show()"
   ]
  },
  {
   "cell_type": "markdown",
   "id": "33c195eb",
   "metadata": {},
   "source": [
    "## Residual Diagnostics"
   ]
  },
  {
   "cell_type": "code",
   "execution_count": null,
   "id": "aee0c91b",
   "metadata": {},
   "outputs": [],
   "source": [
    "# Plot standardized residuals\n",
    "std_resid = garch_fitted.resid / garch_fitted.conditional_volatility\n",
    "std_resid.plot(title='Standardized Residuals')"
   ]
  },
  {
   "cell_type": "markdown",
   "id": "3f80827f",
   "metadata": {},
   "source": [
    "## Final Conclusion\n",
    "EGARCH performed better than GARCH in capturing volatility asymmetry, especially during inflation shocks. VaR violations were more realistically aligned with expectations in EGARCH. The results support the use of EGARCH for risk management under inflation scenarios."
   ]
  }
 ],
 "metadata": {},
 "nbformat": 4,
 "nbformat_minor": 5
}